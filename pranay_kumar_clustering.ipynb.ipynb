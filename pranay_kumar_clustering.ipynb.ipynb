{
  "nbformat": 4,
  "nbformat_minor": 0,
  "metadata": {
    "colab": {
      "provenance": []
    },
    "kernelspec": {
      "name": "python3",
      "display_name": "Python 3"
    },
    "language_info": {
      "name": "python"
    }
  },
  "cells": [
    {
      "cell_type": "code",
      "execution_count": 1,
      "metadata": {
        "id": "wXwhIB_kJSRi"
      },
      "outputs": [],
      "source": [
        "import numpy as np\n",
        "import pandas as pd\n",
        "import matplotlib.pyplot as plt\n",
        "import seaborn as sns\n",
        "import warnings\n",
        "warnings.filterwarnings('ignore')"
      ]
    },
    {
      "cell_type": "code",
      "source": [
        "# Load datasets\n",
        "transactions_df = pd.read_csv('Transactions.csv')\n",
        "products_df = pd.read_csv('Products.csv')\n",
        "customers_df = pd.read_csv('Customers.csv')\n"
      ],
      "metadata": {
        "id": "muF5RanEJZVQ"
      },
      "execution_count": 3,
      "outputs": []
    },
    {
      "cell_type": "code",
      "source": [
        "#merging datasets for analysis\n",
        "merged_df = transactions_df.merge(products_df, on=\"ProductID\").merge(customers_df, on=\"CustomerID\")\n"
      ],
      "metadata": {
        "id": "Yw3tJlJuJgus"
      },
      "execution_count": 4,
      "outputs": []
    },
    {
      "cell_type": "code",
      "source": [
        "from sklearn.cluster import KMeans\n",
        "from sklearn.metrics import davies_bouldin_score, silhouette_score"
      ],
      "metadata": {
        "id": "jXFUzcpPJg0i"
      },
      "execution_count": 6,
      "outputs": []
    }
  ]
}